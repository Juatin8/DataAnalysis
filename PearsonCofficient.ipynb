{
 "cells": [
  {
   "cell_type": "code",
   "execution_count": 23,
   "id": "f0668dc9-ed90-4ebf-81bd-005ecb7caf03",
   "metadata": {
    "tags": []
   },
   "outputs": [
    {
     "name": "stdout",
     "output_type": "stream",
     "text": [
      "皮尔逊相关系数: 0.6383001298001731\n"
     ]
    }
   ],
   "source": [
    "import numpy as np\n",
    "from scipy.stats import pearsonr\n",
    "data0 = np.repeat(1.19, 31)\n",
    "data1= np.repeat(1.33,31)\n",
    "data2 = [30, 29, 30, 24, 29, 26, 25, 28, 24, 27, 23, 21, 24, 25, 28, 25, 24, 26, 25, 24, 26, 25, 29, 25, 29, 25, 29, 25, 25, 28, 30]\n",
    "data3= [30, 30, 30, 30, 30, 28, 30, 30, 31, 29, 28, 30, 30, 28, 30, 28, 27, 28, 29, 26, 30, 27, 30, 29, 30, 30, 30, 30, 30, 29, 32] #徐家汇\n",
    "data1=  np.concatenate((data0, data1), axis=0)\n",
    "data2= np.concatenate((data2, data3), axis=0)\n",
    "# 计算皮尔逊相关系数\n",
    "corr, p_value = pearsonr(data1, data2)\n",
    "print(\"皮尔逊相关系数:\", corr)"
   ]
  }
 ],
 "metadata": {
  "kernelspec": {
   "display_name": "Python 3 (ipykernel)",
   "language": "python",
   "name": "python3"
  },
  "language_info": {
   "codemirror_mode": {
    "name": "ipython",
    "version": 3
   },
   "file_extension": ".py",
   "mimetype": "text/x-python",
   "name": "python",
   "nbconvert_exporter": "python",
   "pygments_lexer": "ipython3",
   "version": "3.10.9"
  }
 },
 "nbformat": 4,
 "nbformat_minor": 5
}
