{
 "cells": [
  {
   "cell_type": "code",
   "execution_count": 15,
   "metadata": {},
   "outputs": [
    {
     "name": "stderr",
     "output_type": "stream",
     "text": [
      "C:\\Users\\65133\\AppData\\Local\\Temp\\ipykernel_48084\\785312923.py:22: GradioDeprecationWarning: Usage of gradio.inputs is deprecated, and will not be supported in the future, please import your component from gradio.components\n",
      "  inputs = [ gr.Image(type=\"pil\"), gr.inputs.Slider(0,100,default=50,step=1,label=\"压缩率\"), gr.inputs.Slider(0,2,default=1,step=0.1,label=\"曝光度\")]\n",
      "C:\\Users\\65133\\AppData\\Local\\Temp\\ipykernel_48084\\785312923.py:22: GradioDeprecationWarning: `optional` parameter is deprecated, and it has no effect\n",
      "  inputs = [ gr.Image(type=\"pil\"), gr.inputs.Slider(0,100,default=50,step=1,label=\"压缩率\"), gr.inputs.Slider(0,2,default=1,step=0.1,label=\"曝光度\")]\n"
     ]
    },
    {
     "name": "stdout",
     "output_type": "stream",
     "text": [
      "Running on local URL:  http://127.0.0.1:7872\n",
      "\n",
      "To create a public link, set `share=True` in `launch()`.\n"
     ]
    },
    {
     "data": {
      "text/html": [
       "<div><iframe src=\"http://127.0.0.1:7872/\" width=\"100%\" height=\"500\" allow=\"autoplay; camera; microphone; clipboard-read; clipboard-write;\" frameborder=\"0\" allowfullscreen></iframe></div>"
      ],
      "text/plain": [
       "<IPython.core.display.HTML object>"
      ]
     },
     "metadata": {},
     "output_type": "display_data"
    },
    {
     "data": {
      "text/plain": []
     },
     "execution_count": 15,
     "metadata": {},
     "output_type": "execute_result"
    }
   ],
   "source": [
    "from PIL import Image, ImageEnhance\n",
    "import gradio as gr\n",
    "\n",
    "filepath = \"new.jpg\"\n",
    "## 压缩图片\n",
    "def compress_image(image, compress_level):\n",
    "    image.save(filepath, optimize=True, quality=compress_level, format='JPEG') # 保存图片\n",
    "    new_image = Image.open(filepath)\n",
    "    return new_image\n",
    "\n",
    "# 修改图片曝光度\n",
    "def modify_exposure(image, exposure):\n",
    "    enhancer = ImageEnhance.Brightness(image)  # enhancer是增强器\n",
    "    new_image = enhancer.enhance(exposure)    # img的数据类型是\n",
    "    return new_image\n",
    "\n",
    "def image_processing(image, compress_level, exposure):\n",
    "    new_image = compress_image(image, compress_level)\n",
    "    new_image = modify_exposure(new_image, exposure)\n",
    "    Image.open(filepath)\n",
    "    return new_image\n",
    "\n",
    "inputs = [ gr.Image(type=\"pil\"), gr.inputs.Slider(0,100,default=50,step=1,label=\"压缩率\"), gr.inputs.Slider(0,2,default=1,step=0.1,label=\"曝光度\")]\n",
    "outputs = [\"image\"]\n",
    "gr.Interface(fn=image_processing, inputs=inputs, outputs=outputs, \n",
    "             title=\"压缩图片\", description=\"按照1-100压缩率来压缩图片.\").launch()"
   ]
  },
  {
   "cell_type": "code",
   "execution_count": null,
   "metadata": {},
   "outputs": [],
   "source": []
  }
 ],
 "metadata": {
  "kernelspec": {
   "display_name": "JupyterLab",
   "language": "python",
   "name": "python3"
  },
  "language_info": {
   "codemirror_mode": {
    "name": "ipython",
    "version": 3
   },
   "file_extension": ".py",
   "mimetype": "text/x-python",
   "name": "python",
   "nbconvert_exporter": "python",
   "pygments_lexer": "ipython3",
   "version": "3.10.9"
  },
  "orig_nbformat": 4
 },
 "nbformat": 4,
 "nbformat_minor": 2
}
