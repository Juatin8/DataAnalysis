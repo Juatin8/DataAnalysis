{
 "cells": [
  {
   "cell_type": "code",
   "execution_count": 3,
   "id": "3669189a-36cb-4098-b8f7-045ee21a777d",
   "metadata": {
    "tags": []
   },
   "outputs": [
    {
     "ename": "TypeError",
     "evalue": "split_on_silence() got an unexpected keyword argument 'min_silence_duration'",
     "output_type": "error",
     "traceback": [
      "\u001b[1;31m---------------------------------------------------------------------------\u001b[0m",
      "\u001b[1;31mTypeError\u001b[0m                                 Traceback (most recent call last)",
      "Cell \u001b[1;32mIn[3], line 10\u001b[0m\n\u001b[0;32m      8\u001b[0m split_interval \u001b[38;5;241m=\u001b[39m \u001b[38;5;241m200\u001b[39m  \u001b[38;5;66;03m# 分割间隔（毫秒）\u001b[39;00m\n\u001b[0;32m      9\u001b[0m \u001b[38;5;66;03m# 根据静默分割语音\u001b[39;00m\n\u001b[1;32m---> 10\u001b[0m segments \u001b[38;5;241m=\u001b[39m \u001b[43msplit_on_silence\u001b[49m\u001b[43m(\u001b[49m\u001b[43maudio\u001b[49m\u001b[43m,\u001b[49m\u001b[43m \u001b[49m\u001b[43mmin_silence_duration\u001b[49m\u001b[38;5;241;43m=\u001b[39;49m\u001b[38;5;241;43m500\u001b[39;49m\u001b[43m,\u001b[49m\u001b[43m \u001b[49m\u001b[43msilence_thresh\u001b[49m\u001b[38;5;241;43m=\u001b[39;49m\u001b[38;5;241;43m-\u001b[39;49m\u001b[38;5;241;43m30\u001b[39;49m\u001b[43m)\u001b[49m\n\u001b[0;32m     11\u001b[0m \u001b[38;5;66;03m# 进一步根据间隔空白分割语音\u001b[39;00m\n\u001b[0;32m     12\u001b[0m split_segments \u001b[38;5;241m=\u001b[39m []\n",
      "\u001b[1;31mTypeError\u001b[0m: split_on_silence() got an unexpected keyword argument 'min_silence_duration'"
     ]
    }
   ],
   "source": [
    "from pydub import AudioSegment\n",
    "from pydub.silence import split_on_silence\n",
    "# 加载语音文件\n",
    "audio = AudioSegment.from_file(\"E:/AppData/BaiduNetdiskDownload/Chapter 3 雅思听力特别名词语料库/1.mp3\", format=\"mp3\")\n",
    "# 设置分割参数\n",
    "silence_threshold = -30  # 静默阈值（dBFS）\n",
    "min_silence_duration = 500  # 最小静默时长（毫秒）\n",
    "split_interval = 200  # 分割间隔（毫秒）\n",
    "# 根据静默分割语音\n",
    "segments = split_on_silence(audio, min_silence_duration=500, silence_thresh=-30)\n",
    "# 进一步根据间隔空白分割语音\n",
    "split_segments = []\n",
    "for segment in segments:\n",
    "    split_segments.extend(segment.split_by_silence(split_interval))\n",
    "# 输出分割后的语音段数\n",
    "print(\"分割后的语音段数：\", len(split_segments))\n",
    "# 保存分割后的语音片段到计算机本地\n",
    "for i, segment in enumerate(split_segments):\n",
    "    segment.export(f\"output/segment{i}.mp3\", format=\"mp3\")"
   ]
  },
  {
   "cell_type": "code",
   "execution_count": null,
   "id": "7d949803-a86a-4078-a7b1-c616719a2eb5",
   "metadata": {},
   "outputs": [],
   "source": []
  },
  {
   "cell_type": "code",
   "execution_count": null,
   "id": "9bda8034-579d-434c-bb0a-960e45697819",
   "metadata": {},
   "outputs": [],
   "source": []
  }
 ],
 "metadata": {
  "kernelspec": {
   "display_name": "Python 3 (ipykernel)",
   "language": "python",
   "name": "python3"
  },
  "language_info": {
   "codemirror_mode": {
    "name": "ipython",
    "version": 3
   },
   "file_extension": ".py",
   "mimetype": "text/x-python",
   "name": "python",
   "nbconvert_exporter": "python",
   "pygments_lexer": "ipython3",
   "version": "3.10.9"
  }
 },
 "nbformat": 4,
 "nbformat_minor": 5
}
